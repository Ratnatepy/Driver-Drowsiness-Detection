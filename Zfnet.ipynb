{
 "cells": [
  {
   "cell_type": "code",
   "execution_count": 1,
   "metadata": {},
   "outputs": [],
   "source": [
    "import pandas as pd  # type: ignore\n",
    "import numpy as np # type: ignore\n",
    "import os\n",
    "import shutil\n",
    "import random\n",
    "import cv2 # type: ignore\n",
    "import matplotlib.pyplot as plt # type: ignore\n",
    "import tensorflow as tf # type: ignore\n",
    "from tensorflow.keras.preprocessing.image import ImageDataGenerator # type: ignore\n",
    "from tensorflow.keras.models import Sequential # type: ignore\n",
    "from tensorflow.keras.layers import Conv2D, MaxPooling2D, Flatten, Dense, Dropout, Input # type: ignore\n",
    "from tensorflow.keras.callbacks import EarlyStopping, ModelCheckpoint # type: ignore\n",
    "from sklearn.ensemble import RandomForestClassifier # type: ignore\n",
    "from sklearn.tree import DecisionTreeClassifier # type: ignore\n",
    "from sklearn.metrics import confusion_matrix # type: ignore\n",
    "import seaborn as sns  # type: ignore\n",
    "from sklearn.linear_model import LogisticRegression # type: ignore\n",
    "from sklearn.svm import SVC # type: ignore\n",
    "from sklearn.metrics import accuracy_score # type: ignore\n"
   ]
  },
  {
   "cell_type": "code",
   "execution_count": 2,
   "metadata": {},
   "outputs": [
    {
     "data": {
      "text/html": [
       "<pre style=\"white-space:pre;overflow-x:auto;line-height:normal;font-family:Menlo,'DejaVu Sans Mono',consolas,'Courier New',monospace\"><span style=\"font-weight: bold\">Model: \"sequential\"</span>\n",
       "</pre>\n"
      ],
      "text/plain": [
       "\u001b[1mModel: \"sequential\"\u001b[0m\n"
      ]
     },
     "metadata": {},
     "output_type": "display_data"
    },
    {
     "data": {
      "text/html": [
       "<pre style=\"white-space:pre;overflow-x:auto;line-height:normal;font-family:Menlo,'DejaVu Sans Mono',consolas,'Courier New',monospace\">┏━━━━━━━━━━━━━━━━━━━━━━━━━━━━━━━━━┳━━━━━━━━━━━━━━━━━━━━━━━━┳━━━━━━━━━━━━━━━┓\n",
       "┃<span style=\"font-weight: bold\"> Layer (type)                    </span>┃<span style=\"font-weight: bold\"> Output Shape           </span>┃<span style=\"font-weight: bold\">       Param # </span>┃\n",
       "┡━━━━━━━━━━━━━━━━━━━━━━━━━━━━━━━━━╇━━━━━━━━━━━━━━━━━━━━━━━━╇━━━━━━━━━━━━━━━┩\n",
       "│ conv2d (<span style=\"color: #0087ff; text-decoration-color: #0087ff\">Conv2D</span>)                 │ (<span style=\"color: #00d7ff; text-decoration-color: #00d7ff\">None</span>, <span style=\"color: #00af00; text-decoration-color: #00af00\">24</span>, <span style=\"color: #00af00; text-decoration-color: #00af00\">24</span>, <span style=\"color: #00af00; text-decoration-color: #00af00\">96</span>)     │        <span style=\"color: #00af00; text-decoration-color: #00af00\">14,208</span> │\n",
       "├─────────────────────────────────┼────────────────────────┼───────────────┤\n",
       "│ max_pooling2d (<span style=\"color: #0087ff; text-decoration-color: #0087ff\">MaxPooling2D</span>)    │ (<span style=\"color: #00d7ff; text-decoration-color: #00d7ff\">None</span>, <span style=\"color: #00af00; text-decoration-color: #00af00\">11</span>, <span style=\"color: #00af00; text-decoration-color: #00af00\">11</span>, <span style=\"color: #00af00; text-decoration-color: #00af00\">96</span>)     │             <span style=\"color: #00af00; text-decoration-color: #00af00\">0</span> │\n",
       "├─────────────────────────────────┼────────────────────────┼───────────────┤\n",
       "│ conv2d_1 (<span style=\"color: #0087ff; text-decoration-color: #0087ff\">Conv2D</span>)               │ (<span style=\"color: #00d7ff; text-decoration-color: #00d7ff\">None</span>, <span style=\"color: #00af00; text-decoration-color: #00af00\">6</span>, <span style=\"color: #00af00; text-decoration-color: #00af00\">6</span>, <span style=\"color: #00af00; text-decoration-color: #00af00\">256</span>)      │       <span style=\"color: #00af00; text-decoration-color: #00af00\">614,656</span> │\n",
       "├─────────────────────────────────┼────────────────────────┼───────────────┤\n",
       "│ max_pooling2d_1 (<span style=\"color: #0087ff; text-decoration-color: #0087ff\">MaxPooling2D</span>)  │ (<span style=\"color: #00d7ff; text-decoration-color: #00d7ff\">None</span>, <span style=\"color: #00af00; text-decoration-color: #00af00\">3</span>, <span style=\"color: #00af00; text-decoration-color: #00af00\">3</span>, <span style=\"color: #00af00; text-decoration-color: #00af00\">256</span>)      │             <span style=\"color: #00af00; text-decoration-color: #00af00\">0</span> │\n",
       "├─────────────────────────────────┼────────────────────────┼───────────────┤\n",
       "│ conv2d_2 (<span style=\"color: #0087ff; text-decoration-color: #0087ff\">Conv2D</span>)               │ (<span style=\"color: #00d7ff; text-decoration-color: #00d7ff\">None</span>, <span style=\"color: #00af00; text-decoration-color: #00af00\">3</span>, <span style=\"color: #00af00; text-decoration-color: #00af00\">3</span>, <span style=\"color: #00af00; text-decoration-color: #00af00\">384</span>)      │       <span style=\"color: #00af00; text-decoration-color: #00af00\">885,120</span> │\n",
       "├─────────────────────────────────┼────────────────────────┼───────────────┤\n",
       "│ conv2d_3 (<span style=\"color: #0087ff; text-decoration-color: #0087ff\">Conv2D</span>)               │ (<span style=\"color: #00d7ff; text-decoration-color: #00d7ff\">None</span>, <span style=\"color: #00af00; text-decoration-color: #00af00\">3</span>, <span style=\"color: #00af00; text-decoration-color: #00af00\">3</span>, <span style=\"color: #00af00; text-decoration-color: #00af00\">384</span>)      │     <span style=\"color: #00af00; text-decoration-color: #00af00\">1,327,488</span> │\n",
       "├─────────────────────────────────┼────────────────────────┼───────────────┤\n",
       "│ conv2d_4 (<span style=\"color: #0087ff; text-decoration-color: #0087ff\">Conv2D</span>)               │ (<span style=\"color: #00d7ff; text-decoration-color: #00d7ff\">None</span>, <span style=\"color: #00af00; text-decoration-color: #00af00\">3</span>, <span style=\"color: #00af00; text-decoration-color: #00af00\">3</span>, <span style=\"color: #00af00; text-decoration-color: #00af00\">256</span>)      │       <span style=\"color: #00af00; text-decoration-color: #00af00\">884,992</span> │\n",
       "├─────────────────────────────────┼────────────────────────┼───────────────┤\n",
       "│ max_pooling2d_2 (<span style=\"color: #0087ff; text-decoration-color: #0087ff\">MaxPooling2D</span>)  │ (<span style=\"color: #00d7ff; text-decoration-color: #00d7ff\">None</span>, <span style=\"color: #00af00; text-decoration-color: #00af00\">2</span>, <span style=\"color: #00af00; text-decoration-color: #00af00\">2</span>, <span style=\"color: #00af00; text-decoration-color: #00af00\">256</span>)      │             <span style=\"color: #00af00; text-decoration-color: #00af00\">0</span> │\n",
       "├─────────────────────────────────┼────────────────────────┼───────────────┤\n",
       "│ flatten (<span style=\"color: #0087ff; text-decoration-color: #0087ff\">Flatten</span>)               │ (<span style=\"color: #00d7ff; text-decoration-color: #00d7ff\">None</span>, <span style=\"color: #00af00; text-decoration-color: #00af00\">1024</span>)           │             <span style=\"color: #00af00; text-decoration-color: #00af00\">0</span> │\n",
       "├─────────────────────────────────┼────────────────────────┼───────────────┤\n",
       "│ dense (<span style=\"color: #0087ff; text-decoration-color: #0087ff\">Dense</span>)                   │ (<span style=\"color: #00d7ff; text-decoration-color: #00d7ff\">None</span>, <span style=\"color: #00af00; text-decoration-color: #00af00\">4096</span>)           │     <span style=\"color: #00af00; text-decoration-color: #00af00\">4,198,400</span> │\n",
       "├─────────────────────────────────┼────────────────────────┼───────────────┤\n",
       "│ dense_1 (<span style=\"color: #0087ff; text-decoration-color: #0087ff\">Dense</span>)                 │ (<span style=\"color: #00d7ff; text-decoration-color: #00d7ff\">None</span>, <span style=\"color: #00af00; text-decoration-color: #00af00\">4096</span>)           │    <span style=\"color: #00af00; text-decoration-color: #00af00\">16,781,312</span> │\n",
       "├─────────────────────────────────┼────────────────────────┼───────────────┤\n",
       "│ dense_2 (<span style=\"color: #0087ff; text-decoration-color: #0087ff\">Dense</span>)                 │ (<span style=\"color: #00d7ff; text-decoration-color: #00d7ff\">None</span>, <span style=\"color: #00af00; text-decoration-color: #00af00\">2</span>)              │         <span style=\"color: #00af00; text-decoration-color: #00af00\">8,194</span> │\n",
       "└─────────────────────────────────┴────────────────────────┴───────────────┘\n",
       "</pre>\n"
      ],
      "text/plain": [
       "┏━━━━━━━━━━━━━━━━━━━━━━━━━━━━━━━━━┳━━━━━━━━━━━━━━━━━━━━━━━━┳━━━━━━━━━━━━━━━┓\n",
       "┃\u001b[1m \u001b[0m\u001b[1mLayer (type)                   \u001b[0m\u001b[1m \u001b[0m┃\u001b[1m \u001b[0m\u001b[1mOutput Shape          \u001b[0m\u001b[1m \u001b[0m┃\u001b[1m \u001b[0m\u001b[1m      Param #\u001b[0m\u001b[1m \u001b[0m┃\n",
       "┡━━━━━━━━━━━━━━━━━━━━━━━━━━━━━━━━━╇━━━━━━━━━━━━━━━━━━━━━━━━╇━━━━━━━━━━━━━━━┩\n",
       "│ conv2d (\u001b[38;5;33mConv2D\u001b[0m)                 │ (\u001b[38;5;45mNone\u001b[0m, \u001b[38;5;34m24\u001b[0m, \u001b[38;5;34m24\u001b[0m, \u001b[38;5;34m96\u001b[0m)     │        \u001b[38;5;34m14,208\u001b[0m │\n",
       "├─────────────────────────────────┼────────────────────────┼───────────────┤\n",
       "│ max_pooling2d (\u001b[38;5;33mMaxPooling2D\u001b[0m)    │ (\u001b[38;5;45mNone\u001b[0m, \u001b[38;5;34m11\u001b[0m, \u001b[38;5;34m11\u001b[0m, \u001b[38;5;34m96\u001b[0m)     │             \u001b[38;5;34m0\u001b[0m │\n",
       "├─────────────────────────────────┼────────────────────────┼───────────────┤\n",
       "│ conv2d_1 (\u001b[38;5;33mConv2D\u001b[0m)               │ (\u001b[38;5;45mNone\u001b[0m, \u001b[38;5;34m6\u001b[0m, \u001b[38;5;34m6\u001b[0m, \u001b[38;5;34m256\u001b[0m)      │       \u001b[38;5;34m614,656\u001b[0m │\n",
       "├─────────────────────────────────┼────────────────────────┼───────────────┤\n",
       "│ max_pooling2d_1 (\u001b[38;5;33mMaxPooling2D\u001b[0m)  │ (\u001b[38;5;45mNone\u001b[0m, \u001b[38;5;34m3\u001b[0m, \u001b[38;5;34m3\u001b[0m, \u001b[38;5;34m256\u001b[0m)      │             \u001b[38;5;34m0\u001b[0m │\n",
       "├─────────────────────────────────┼────────────────────────┼───────────────┤\n",
       "│ conv2d_2 (\u001b[38;5;33mConv2D\u001b[0m)               │ (\u001b[38;5;45mNone\u001b[0m, \u001b[38;5;34m3\u001b[0m, \u001b[38;5;34m3\u001b[0m, \u001b[38;5;34m384\u001b[0m)      │       \u001b[38;5;34m885,120\u001b[0m │\n",
       "├─────────────────────────────────┼────────────────────────┼───────────────┤\n",
       "│ conv2d_3 (\u001b[38;5;33mConv2D\u001b[0m)               │ (\u001b[38;5;45mNone\u001b[0m, \u001b[38;5;34m3\u001b[0m, \u001b[38;5;34m3\u001b[0m, \u001b[38;5;34m384\u001b[0m)      │     \u001b[38;5;34m1,327,488\u001b[0m │\n",
       "├─────────────────────────────────┼────────────────────────┼───────────────┤\n",
       "│ conv2d_4 (\u001b[38;5;33mConv2D\u001b[0m)               │ (\u001b[38;5;45mNone\u001b[0m, \u001b[38;5;34m3\u001b[0m, \u001b[38;5;34m3\u001b[0m, \u001b[38;5;34m256\u001b[0m)      │       \u001b[38;5;34m884,992\u001b[0m │\n",
       "├─────────────────────────────────┼────────────────────────┼───────────────┤\n",
       "│ max_pooling2d_2 (\u001b[38;5;33mMaxPooling2D\u001b[0m)  │ (\u001b[38;5;45mNone\u001b[0m, \u001b[38;5;34m2\u001b[0m, \u001b[38;5;34m2\u001b[0m, \u001b[38;5;34m256\u001b[0m)      │             \u001b[38;5;34m0\u001b[0m │\n",
       "├─────────────────────────────────┼────────────────────────┼───────────────┤\n",
       "│ flatten (\u001b[38;5;33mFlatten\u001b[0m)               │ (\u001b[38;5;45mNone\u001b[0m, \u001b[38;5;34m1024\u001b[0m)           │             \u001b[38;5;34m0\u001b[0m │\n",
       "├─────────────────────────────────┼────────────────────────┼───────────────┤\n",
       "│ dense (\u001b[38;5;33mDense\u001b[0m)                   │ (\u001b[38;5;45mNone\u001b[0m, \u001b[38;5;34m4096\u001b[0m)           │     \u001b[38;5;34m4,198,400\u001b[0m │\n",
       "├─────────────────────────────────┼────────────────────────┼───────────────┤\n",
       "│ dense_1 (\u001b[38;5;33mDense\u001b[0m)                 │ (\u001b[38;5;45mNone\u001b[0m, \u001b[38;5;34m4096\u001b[0m)           │    \u001b[38;5;34m16,781,312\u001b[0m │\n",
       "├─────────────────────────────────┼────────────────────────┼───────────────┤\n",
       "│ dense_2 (\u001b[38;5;33mDense\u001b[0m)                 │ (\u001b[38;5;45mNone\u001b[0m, \u001b[38;5;34m2\u001b[0m)              │         \u001b[38;5;34m8,194\u001b[0m │\n",
       "└─────────────────────────────────┴────────────────────────┴───────────────┘\n"
      ]
     },
     "metadata": {},
     "output_type": "display_data"
    },
    {
     "data": {
      "text/html": [
       "<pre style=\"white-space:pre;overflow-x:auto;line-height:normal;font-family:Menlo,'DejaVu Sans Mono',consolas,'Courier New',monospace\"><span style=\"font-weight: bold\"> Total params: </span><span style=\"color: #00af00; text-decoration-color: #00af00\">24,714,370</span> (94.28 MB)\n",
       "</pre>\n"
      ],
      "text/plain": [
       "\u001b[1m Total params: \u001b[0m\u001b[38;5;34m24,714,370\u001b[0m (94.28 MB)\n"
      ]
     },
     "metadata": {},
     "output_type": "display_data"
    },
    {
     "data": {
      "text/html": [
       "<pre style=\"white-space:pre;overflow-x:auto;line-height:normal;font-family:Menlo,'DejaVu Sans Mono',consolas,'Courier New',monospace\"><span style=\"font-weight: bold\"> Trainable params: </span><span style=\"color: #00af00; text-decoration-color: #00af00\">24,714,370</span> (94.28 MB)\n",
       "</pre>\n"
      ],
      "text/plain": [
       "\u001b[1m Trainable params: \u001b[0m\u001b[38;5;34m24,714,370\u001b[0m (94.28 MB)\n"
      ]
     },
     "metadata": {},
     "output_type": "display_data"
    },
    {
     "data": {
      "text/html": [
       "<pre style=\"white-space:pre;overflow-x:auto;line-height:normal;font-family:Menlo,'DejaVu Sans Mono',consolas,'Courier New',monospace\"><span style=\"font-weight: bold\"> Non-trainable params: </span><span style=\"color: #00af00; text-decoration-color: #00af00\">0</span> (0.00 B)\n",
       "</pre>\n"
      ],
      "text/plain": [
       "\u001b[1m Non-trainable params: \u001b[0m\u001b[38;5;34m0\u001b[0m (0.00 B)\n"
      ]
     },
     "metadata": {},
     "output_type": "display_data"
    }
   ],
   "source": [
    "\n",
    "zfnet = Sequential([\n",
    "    Input(shape=(48, 48, 3)),  # CIFAR-10 images are 32x32x3\n",
    "    Conv2D(96, (7, 7), strides=2, activation='relu', padding='same'),\n",
    "    MaxPooling2D((3, 3), strides=2),  # Output becomes 16x16x96\n",
    "    Conv2D(256, (5, 5), strides=2, activation='relu', padding='same'),\n",
    "    MaxPooling2D((3, 3), strides=2, padding='same'),  # Ensure padding to avoid negative dimensions\n",
    "    Conv2D(384, (3, 3), activation='relu', padding='same'),\n",
    "    Conv2D(384, (3, 3), activation='relu', padding='same'),\n",
    "    Conv2D(256, (3, 3), activation='relu', padding='same'),\n",
    "    MaxPooling2D((3, 3), strides=2, padding='same'),  # Final size depends on padding\n",
    "    Flatten(),\n",
    "    Dense(4096, activation='relu'),\n",
    "    Dense(4096, activation='relu'),\n",
    "    Dense(2, activation='softmax')  # 2 classes\n",
    "])\n",
    "\n",
    "# Model summary\n",
    "zfnet.summary()\n"
   ]
  },
  {
   "cell_type": "code",
   "execution_count": 3,
   "metadata": {},
   "outputs": [],
   "source": [
    "# Resize image to 48 * 48 data in folder data_copy \n",
    "\n",
    "\n",
    "def resize_image(path):\n",
    "    for img in os.listdir(path):\n",
    "        img_path = os.path.join(path, img)\n",
    "        img = cv2.imread(img_path)\n",
    "        if img is not None:\n",
    "            img = cv2.resize(img, (48, 48))\n",
    "            cv2.imwrite(img_path, img)\n",
    "        else:\n",
    "            print(f\"Failed to read image: {img_path}\")\n",
    "\n",
    "        \n",
    "resize_image(r'C:\\Users\\pron\\Documents\\I4-AMS\\Research_Method\\Project_Drowsy_Driver_Alert\\data_copy\\test\\DROWSY')\n",
    "resize_image(r'C:\\Users\\pron\\Documents\\I4-AMS\\Research_Method\\Project_Drowsy_Driver_Alert\\data_copy\\test\\NATURAL')\n",
    "resize_image(r'C:\\Users\\pron\\Documents\\I4-AMS\\Research_Method\\Project_Drowsy_Driver_Alert\\data_copy\\train\\DROWSY')\n",
    "resize_image(r'C:\\Users\\pron\\Documents\\I4-AMS\\Research_Method\\Project_Drowsy_Driver_Alert\\data_copy\\train\\NATURAL')\n",
    "\n",
    "\n",
    "\n",
    "\n"
   ]
  },
  {
   "cell_type": "code",
   "execution_count": 4,
   "metadata": {},
   "outputs": [],
   "source": [
    "# Convert all image in folder data_copy to GrayScale\n",
    "def convert_to_gray_scale(path):\n",
    "    if not os.path.exists(path):\n",
    "        print(f\"Directory {path} does not exist.\")\n",
    "        return\n",
    "    files = os.listdir(path)\n",
    "    for file in files:\n",
    "        img = cv2.imread(os.path.join(path, file))\n",
    "        img = cv2.cvtColor(img, cv2.COLOR_BGR2GRAY)\n",
    "        cv2.imwrite(os.path.join(path, file), img)\n",
    "\n",
    "convert_to_gray_scale(r'C:\\Users\\pron\\Documents\\I4-AMS\\Research_Method\\Project_Drowsy_Driver_Alert\\data_copy\\train\\DROWSY')\n",
    "convert_to_gray_scale(r'C:\\Users\\pron\\Documents\\I4-AMS\\Research_Method\\Project_Drowsy_Driver_Alert\\data_copy\\train\\NATURAL')\n",
    "convert_to_gray_scale(r'C:\\Users\\pron\\Documents\\I4-AMS\\Research_Method\\Project_Drowsy_Driver_Alert\\data_copy\\test\\DROWSY')\n",
    "convert_to_gray_scale(r'C:\\Users\\pron\\Documents\\I4-AMS\\Research_Method\\Project_Drowsy_Driver_Alert\\data_copy\\test\\NATURAL')\n"
   ]
  },
  {
   "cell_type": "code",
   "execution_count": 5,
   "metadata": {},
   "outputs": [
    {
     "name": "stdout",
     "output_type": "stream",
     "text": [
      "Found 6764 images belonging to 2 classes.\n",
      "Found 2402 images belonging to 2 classes.\n"
     ]
    }
   ],
   "source": [
    "\n",
    "# Create data generator\n",
    "train_datagen = ImageDataGenerator(rescale=1./255)\n",
    "test_datagen = ImageDataGenerator(rescale=1./255)\n",
    "\n",
    "train_generator = train_datagen.flow_from_directory(\n",
    "    r'C:\\Users\\pron\\Documents\\I4-AMS\\Research_Method\\Project_Drowsy_Driver_Alert\\data_copy\\train',\n",
    "    target_size=(48, 48),\n",
    "    batch_size=64,\n",
    "    class_mode='categorical'\n",
    ")\n",
    "test_generator = test_datagen.flow_from_directory(\n",
    "    r'C:\\Users\\pron\\Documents\\I4-AMS\\Research_Method\\Project_Drowsy_Driver_Alert\\data_copy\\test',\n",
    "    target_size=(48, 48),\n",
    "    batch_size=64,\n",
    "    class_mode='categorical'\n",
    ")\n",
    "\n",
    "\n"
   ]
  },
  {
   "cell_type": "code",
   "execution_count": 6,
   "metadata": {},
   "outputs": [
    {
     "name": "stdout",
     "output_type": "stream",
     "text": [
      "(64, 48, 48, 3) (64, 2)\n"
     ]
    }
   ],
   "source": [
    "# Check data generator\n",
    "x, y = next(train_generator)\n",
    "print(x.shape, y.shape)"
   ]
  },
  {
   "cell_type": "code",
   "execution_count": 7,
   "metadata": {},
   "outputs": [
    {
     "data": {
      "text/plain": [
       "array([[[[0.5647059 , 0.5647059 , 0.5647059 ],\n",
       "         [0.5686275 , 0.5686275 , 0.5686275 ],\n",
       "         [0.5686275 , 0.5686275 , 0.5686275 ],\n",
       "         ...,\n",
       "         [0.49803925, 0.49803925, 0.49803925],\n",
       "         [0.6156863 , 0.6156863 , 0.6156863 ],\n",
       "         [0.5647059 , 0.5647059 , 0.5647059 ]],\n",
       "\n",
       "        [[0.5568628 , 0.5568628 , 0.5568628 ],\n",
       "         [0.5568628 , 0.5568628 , 0.5568628 ],\n",
       "         [0.5568628 , 0.5568628 , 0.5568628 ],\n",
       "         ...,\n",
       "         [0.4039216 , 0.4039216 , 0.4039216 ],\n",
       "         [0.6627451 , 0.6627451 , 0.6627451 ],\n",
       "         [0.60784316, 0.60784316, 0.60784316]],\n",
       "\n",
       "        [[0.54509807, 0.54509807, 0.54509807],\n",
       "         [0.54901963, 0.54901963, 0.54901963],\n",
       "         [0.54901963, 0.54901963, 0.54901963],\n",
       "         ...,\n",
       "         [0.33333334, 0.33333334, 0.33333334],\n",
       "         [0.4901961 , 0.4901961 , 0.4901961 ],\n",
       "         [0.49803925, 0.49803925, 0.49803925]],\n",
       "\n",
       "        ...,\n",
       "\n",
       "        [[0.6156863 , 0.6156863 , 0.6156863 ],\n",
       "         [0.17254902, 0.17254902, 0.17254902],\n",
       "         [0.18823531, 0.18823531, 0.18823531],\n",
       "         ...,\n",
       "         [0.47058827, 0.47058827, 0.47058827],\n",
       "         [0.47450984, 0.47450984, 0.47450984],\n",
       "         [0.47058827, 0.47058827, 0.47058827]],\n",
       "\n",
       "        [[0.23529413, 0.23529413, 0.23529413],\n",
       "         [0.5921569 , 0.5921569 , 0.5921569 ],\n",
       "         [0.5882353 , 0.5882353 , 0.5882353 ],\n",
       "         ...,\n",
       "         [0.4901961 , 0.4901961 , 0.4901961 ],\n",
       "         [0.48235297, 0.48235297, 0.48235297],\n",
       "         [0.47058827, 0.47058827, 0.47058827]],\n",
       "\n",
       "        [[0.227451  , 0.227451  , 0.227451  ],\n",
       "         [0.20392159, 0.20392159, 0.20392159],\n",
       "         [0.19607845, 0.19607845, 0.19607845],\n",
       "         ...,\n",
       "         [0.49803925, 0.49803925, 0.49803925],\n",
       "         [0.49411768, 0.49411768, 0.49411768],\n",
       "         [0.48627454, 0.48627454, 0.48627454]]],\n",
       "\n",
       "\n",
       "       [[[0.9921569 , 0.9921569 , 0.9921569 ],\n",
       "         [0.9921569 , 0.9921569 , 0.9921569 ],\n",
       "         [0.9921569 , 0.9921569 , 0.9921569 ],\n",
       "         ...,\n",
       "         [0.9921569 , 0.9921569 , 0.9921569 ],\n",
       "         [0.9921569 , 0.9921569 , 0.9921569 ],\n",
       "         [0.9921569 , 0.9921569 , 0.9921569 ]],\n",
       "\n",
       "        [[0.9921569 , 0.9921569 , 0.9921569 ],\n",
       "         [0.9921569 , 0.9921569 , 0.9921569 ],\n",
       "         [0.9921569 , 0.9921569 , 0.9921569 ],\n",
       "         ...,\n",
       "         [0.9921569 , 0.9921569 , 0.9921569 ],\n",
       "         [0.9921569 , 0.9921569 , 0.9921569 ],\n",
       "         [0.9921569 , 0.9921569 , 0.9921569 ]],\n",
       "\n",
       "        [[0.9921569 , 0.9921569 , 0.9921569 ],\n",
       "         [0.9921569 , 0.9921569 , 0.9921569 ],\n",
       "         [0.9921569 , 0.9921569 , 0.9921569 ],\n",
       "         ...,\n",
       "         [0.9921569 , 0.9921569 , 0.9921569 ],\n",
       "         [0.9921569 , 0.9921569 , 0.9921569 ],\n",
       "         [0.9921569 , 0.9921569 , 0.9921569 ]],\n",
       "\n",
       "        ...,\n",
       "\n",
       "        [[0.07843138, 0.07843138, 0.07843138],\n",
       "         [0.09803922, 0.09803922, 0.09803922],\n",
       "         [0.09411766, 0.09411766, 0.09411766],\n",
       "         ...,\n",
       "         [0.20000002, 0.20000002, 0.20000002],\n",
       "         [0.15686275, 0.15686275, 0.15686275],\n",
       "         [0.12941177, 0.12941177, 0.12941177]],\n",
       "\n",
       "        [[0.0627451 , 0.0627451 , 0.0627451 ],\n",
       "         [0.09019608, 0.09019608, 0.09019608],\n",
       "         [0.10588236, 0.10588236, 0.10588236],\n",
       "         ...,\n",
       "         [0.20392159, 0.20392159, 0.20392159],\n",
       "         [0.16470589, 0.16470589, 0.16470589],\n",
       "         [0.09803922, 0.09803922, 0.09803922]],\n",
       "\n",
       "        [[0.07058824, 0.07058824, 0.07058824],\n",
       "         [0.07450981, 0.07450981, 0.07450981],\n",
       "         [0.09019608, 0.09019608, 0.09019608],\n",
       "         ...,\n",
       "         [0.19607845, 0.19607845, 0.19607845],\n",
       "         [0.18039216, 0.18039216, 0.18039216],\n",
       "         [0.09411766, 0.09411766, 0.09411766]]],\n",
       "\n",
       "\n",
       "       [[[0.16470589, 0.16470589, 0.16470589],\n",
       "         [0.16470589, 0.16470589, 0.16470589],\n",
       "         [0.16470589, 0.16470589, 0.16470589],\n",
       "         ...,\n",
       "         [0.7803922 , 0.7803922 , 0.7803922 ],\n",
       "         [0.7803922 , 0.7803922 , 0.7803922 ],\n",
       "         [0.7803922 , 0.7803922 , 0.7803922 ]],\n",
       "\n",
       "        [[0.16470589, 0.16470589, 0.16470589],\n",
       "         [0.16470589, 0.16470589, 0.16470589],\n",
       "         [0.16470589, 0.16470589, 0.16470589],\n",
       "         ...,\n",
       "         [0.7803922 , 0.7803922 , 0.7803922 ],\n",
       "         [0.7803922 , 0.7803922 , 0.7803922 ],\n",
       "         [0.7803922 , 0.7803922 , 0.7803922 ]],\n",
       "\n",
       "        [[0.16470589, 0.16470589, 0.16470589],\n",
       "         [0.16470589, 0.16470589, 0.16470589],\n",
       "         [0.16470589, 0.16470589, 0.16470589],\n",
       "         ...,\n",
       "         [0.7803922 , 0.7803922 , 0.7803922 ],\n",
       "         [0.7803922 , 0.7803922 , 0.7803922 ],\n",
       "         [0.7803922 , 0.7803922 , 0.7803922 ]],\n",
       "\n",
       "        ...,\n",
       "\n",
       "        [[0.7254902 , 0.7254902 , 0.7254902 ],\n",
       "         [0.72156864, 0.72156864, 0.72156864],\n",
       "         [0.7686275 , 0.7686275 , 0.7686275 ],\n",
       "         ...,\n",
       "         [0.7019608 , 0.7019608 , 0.7019608 ],\n",
       "         [0.7058824 , 0.7058824 , 0.7058824 ],\n",
       "         [0.7058824 , 0.7058824 , 0.7058824 ]],\n",
       "\n",
       "        [[0.7568628 , 0.7568628 , 0.7568628 ],\n",
       "         [0.75294125, 0.75294125, 0.75294125],\n",
       "         [0.7803922 , 0.7803922 , 0.7803922 ],\n",
       "         ...,\n",
       "         [0.7019608 , 0.7019608 , 0.7019608 ],\n",
       "         [0.7019608 , 0.7019608 , 0.7019608 ],\n",
       "         [0.7058824 , 0.7058824 , 0.7058824 ]],\n",
       "\n",
       "        [[0.7686275 , 0.7686275 , 0.7686275 ],\n",
       "         [0.7803922 , 0.7803922 , 0.7803922 ],\n",
       "         [0.7254902 , 0.7254902 , 0.7254902 ],\n",
       "         ...,\n",
       "         [0.7019608 , 0.7019608 , 0.7019608 ],\n",
       "         [0.7019608 , 0.7019608 , 0.7019608 ],\n",
       "         [0.7058824 , 0.7058824 , 0.7058824 ]]],\n",
       "\n",
       "\n",
       "       ...,\n",
       "\n",
       "\n",
       "       [[[0.13333334, 0.13333334, 0.13333334],\n",
       "         [0.13333334, 0.13333334, 0.13333334],\n",
       "         [0.1254902 , 0.1254902 , 0.1254902 ],\n",
       "         ...,\n",
       "         [0.10980393, 0.10980393, 0.10980393],\n",
       "         [0.10980393, 0.10980393, 0.10980393],\n",
       "         [0.10980393, 0.10980393, 0.10980393]],\n",
       "\n",
       "        [[0.28235295, 0.28235295, 0.28235295],\n",
       "         [0.28235295, 0.28235295, 0.28235295],\n",
       "         [0.27058825, 0.27058825, 0.27058825],\n",
       "         ...,\n",
       "         [0.10196079, 0.10196079, 0.10196079],\n",
       "         [0.10196079, 0.10196079, 0.10196079],\n",
       "         [0.10196079, 0.10196079, 0.10196079]],\n",
       "\n",
       "        [[0.46274513, 0.46274513, 0.46274513],\n",
       "         [0.48627454, 0.48627454, 0.48627454],\n",
       "         [0.49803925, 0.49803925, 0.49803925],\n",
       "         ...,\n",
       "         [0.10588236, 0.10588236, 0.10588236],\n",
       "         [0.10588236, 0.10588236, 0.10588236],\n",
       "         [0.10588236, 0.10588236, 0.10588236]],\n",
       "\n",
       "        ...,\n",
       "\n",
       "        [[0.07058824, 0.07058824, 0.07058824],\n",
       "         [0.07058824, 0.07058824, 0.07058824],\n",
       "         [0.07058824, 0.07058824, 0.07058824],\n",
       "         ...,\n",
       "         [0.23529413, 0.23529413, 0.23529413],\n",
       "         [0.2392157 , 0.2392157 , 0.2392157 ],\n",
       "         [0.09411766, 0.09411766, 0.09411766]],\n",
       "\n",
       "        [[0.07058824, 0.07058824, 0.07058824],\n",
       "         [0.07058824, 0.07058824, 0.07058824],\n",
       "         [0.07058824, 0.07058824, 0.07058824],\n",
       "         ...,\n",
       "         [0.25490198, 0.25490198, 0.25490198],\n",
       "         [0.21960786, 0.21960786, 0.21960786],\n",
       "         [0.09019608, 0.09019608, 0.09019608]],\n",
       "\n",
       "        [[0.07450981, 0.07450981, 0.07450981],\n",
       "         [0.07450981, 0.07450981, 0.07450981],\n",
       "         [0.07450981, 0.07450981, 0.07450981],\n",
       "         ...,\n",
       "         [0.2627451 , 0.2627451 , 0.2627451 ],\n",
       "         [0.227451  , 0.227451  , 0.227451  ],\n",
       "         [0.10196079, 0.10196079, 0.10196079]]],\n",
       "\n",
       "\n",
       "       [[[0.03529412, 0.03529412, 0.03529412],\n",
       "         [0.03137255, 0.03137255, 0.03137255],\n",
       "         [0.02352941, 0.02352941, 0.02352941],\n",
       "         ...,\n",
       "         [0.12156864, 0.12156864, 0.12156864],\n",
       "         [0.09019608, 0.09019608, 0.09019608],\n",
       "         [0.12941177, 0.12941177, 0.12941177]],\n",
       "\n",
       "        [[0.03137255, 0.03137255, 0.03137255],\n",
       "         [0.02745098, 0.02745098, 0.02745098],\n",
       "         [0.02352941, 0.02352941, 0.02352941],\n",
       "         ...,\n",
       "         [0.09803922, 0.09803922, 0.09803922],\n",
       "         [0.10588236, 0.10588236, 0.10588236],\n",
       "         [0.1254902 , 0.1254902 , 0.1254902 ]],\n",
       "\n",
       "        [[0.02352941, 0.02352941, 0.02352941],\n",
       "         [0.02352941, 0.02352941, 0.02352941],\n",
       "         [0.02352941, 0.02352941, 0.02352941],\n",
       "         ...,\n",
       "         [0.12941177, 0.12941177, 0.12941177],\n",
       "         [0.17254902, 0.17254902, 0.17254902],\n",
       "         [0.16078432, 0.16078432, 0.16078432]],\n",
       "\n",
       "        ...,\n",
       "\n",
       "        [[0.12941177, 0.12941177, 0.12941177],\n",
       "         [0.09019608, 0.09019608, 0.09019608],\n",
       "         [0.19607845, 0.19607845, 0.19607845],\n",
       "         ...,\n",
       "         [0.52156866, 0.52156866, 0.52156866],\n",
       "         [0.5372549 , 0.5372549 , 0.5372549 ],\n",
       "         [0.5411765 , 0.5411765 , 0.5411765 ]],\n",
       "\n",
       "        [[0.13725491, 0.13725491, 0.13725491],\n",
       "         [0.10980393, 0.10980393, 0.10980393],\n",
       "         [0.17254902, 0.17254902, 0.17254902],\n",
       "         ...,\n",
       "         [0.58431375, 0.58431375, 0.58431375],\n",
       "         [0.63529414, 0.63529414, 0.63529414],\n",
       "         [0.6117647 , 0.6117647 , 0.6117647 ]],\n",
       "\n",
       "        [[0.12941177, 0.12941177, 0.12941177],\n",
       "         [0.11764707, 0.11764707, 0.11764707],\n",
       "         [0.15686275, 0.15686275, 0.15686275],\n",
       "         ...,\n",
       "         [0.6313726 , 0.6313726 , 0.6313726 ],\n",
       "         [0.7137255 , 0.7137255 , 0.7137255 ],\n",
       "         [0.6745098 , 0.6745098 , 0.6745098 ]]],\n",
       "\n",
       "\n",
       "       [[[0.8941177 , 0.8941177 , 0.8941177 ],\n",
       "         [0.8980393 , 0.8980393 , 0.8980393 ],\n",
       "         [0.8980393 , 0.8980393 , 0.8980393 ],\n",
       "         ...,\n",
       "         [0.95294124, 0.95294124, 0.95294124],\n",
       "         [0.95294124, 0.95294124, 0.95294124],\n",
       "         [0.95294124, 0.95294124, 0.95294124]],\n",
       "\n",
       "        [[0.8941177 , 0.8941177 , 0.8941177 ],\n",
       "         [0.8980393 , 0.8980393 , 0.8980393 ],\n",
       "         [0.8980393 , 0.8980393 , 0.8980393 ],\n",
       "         ...,\n",
       "         [0.95294124, 0.95294124, 0.95294124],\n",
       "         [0.95294124, 0.95294124, 0.95294124],\n",
       "         [0.9568628 , 0.9568628 , 0.9568628 ]],\n",
       "\n",
       "        [[0.8980393 , 0.8980393 , 0.8980393 ],\n",
       "         [0.8980393 , 0.8980393 , 0.8980393 ],\n",
       "         [0.8980393 , 0.8980393 , 0.8980393 ],\n",
       "         ...,\n",
       "         [0.95294124, 0.95294124, 0.95294124],\n",
       "         [0.95294124, 0.95294124, 0.95294124],\n",
       "         [0.95294124, 0.95294124, 0.95294124]],\n",
       "\n",
       "        ...,\n",
       "\n",
       "        [[0.454902  , 0.454902  , 0.454902  ],\n",
       "         [0.44705886, 0.44705886, 0.44705886],\n",
       "         [0.427451  , 0.427451  , 0.427451  ],\n",
       "         ...,\n",
       "         [0.5411765 , 0.5411765 , 0.5411765 ],\n",
       "         [0.5372549 , 0.5372549 , 0.5372549 ],\n",
       "         [0.54509807, 0.54509807, 0.54509807]],\n",
       "\n",
       "        [[0.454902  , 0.454902  , 0.454902  ],\n",
       "         [0.44705886, 0.44705886, 0.44705886],\n",
       "         [0.43137258, 0.43137258, 0.43137258],\n",
       "         ...,\n",
       "         [0.5294118 , 0.5294118 , 0.5294118 ],\n",
       "         [0.53333336, 0.53333336, 0.53333336],\n",
       "         [0.5254902 , 0.5254902 , 0.5254902 ]],\n",
       "\n",
       "        [[0.44705886, 0.44705886, 0.44705886],\n",
       "         [0.4431373 , 0.4431373 , 0.4431373 ],\n",
       "         [0.43137258, 0.43137258, 0.43137258],\n",
       "         ...,\n",
       "         [0.48235297, 0.48235297, 0.48235297],\n",
       "         [0.46274513, 0.46274513, 0.46274513],\n",
       "         [0.43137258, 0.43137258, 0.43137258]]]], dtype=float32)"
      ]
     },
     "execution_count": 7,
     "metadata": {},
     "output_type": "execute_result"
    }
   ],
   "source": [
    "x"
   ]
  },
  {
   "cell_type": "code",
   "execution_count": 8,
   "metadata": {},
   "outputs": [
    {
     "data": {
      "text/plain": [
       "array([[0., 1.],\n",
       "       [1., 0.],\n",
       "       [1., 0.],\n",
       "       [1., 0.],\n",
       "       [1., 0.],\n",
       "       [1., 0.],\n",
       "       [1., 0.],\n",
       "       [0., 1.],\n",
       "       [1., 0.],\n",
       "       [0., 1.],\n",
       "       [0., 1.],\n",
       "       [1., 0.],\n",
       "       [0., 1.],\n",
       "       [1., 0.],\n",
       "       [0., 1.],\n",
       "       [1., 0.],\n",
       "       [0., 1.],\n",
       "       [0., 1.],\n",
       "       [1., 0.],\n",
       "       [1., 0.],\n",
       "       [1., 0.],\n",
       "       [1., 0.],\n",
       "       [1., 0.],\n",
       "       [0., 1.],\n",
       "       [0., 1.],\n",
       "       [0., 1.],\n",
       "       [1., 0.],\n",
       "       [0., 1.],\n",
       "       [0., 1.],\n",
       "       [0., 1.],\n",
       "       [0., 1.],\n",
       "       [0., 1.],\n",
       "       [0., 1.],\n",
       "       [0., 1.],\n",
       "       [0., 1.],\n",
       "       [1., 0.],\n",
       "       [0., 1.],\n",
       "       [0., 1.],\n",
       "       [1., 0.],\n",
       "       [1., 0.],\n",
       "       [1., 0.],\n",
       "       [1., 0.],\n",
       "       [1., 0.],\n",
       "       [1., 0.],\n",
       "       [1., 0.],\n",
       "       [0., 1.],\n",
       "       [0., 1.],\n",
       "       [0., 1.],\n",
       "       [0., 1.],\n",
       "       [0., 1.],\n",
       "       [0., 1.],\n",
       "       [0., 1.],\n",
       "       [1., 0.],\n",
       "       [1., 0.],\n",
       "       [1., 0.],\n",
       "       [0., 1.],\n",
       "       [0., 1.],\n",
       "       [0., 1.],\n",
       "       [1., 0.],\n",
       "       [0., 1.],\n",
       "       [1., 0.],\n",
       "       [0., 1.],\n",
       "       [0., 1.],\n",
       "       [1., 0.]], dtype=float32)"
      ]
     },
     "execution_count": 8,
     "metadata": {},
     "output_type": "execute_result"
    }
   ],
   "source": [
    "y"
   ]
  },
  {
   "cell_type": "code",
   "execution_count": 9,
   "metadata": {},
   "outputs": [],
   "source": [
    "zfnet.compile(optimizer='adam', loss='categorical_crossentropy', metrics=['accuracy'])"
   ]
  },
  {
   "cell_type": "code",
   "execution_count": 10,
   "metadata": {},
   "outputs": [],
   "source": [
    "\n",
    "# Early stopping callback\n",
    "early_stopping = EarlyStopping(monitor='val_loss', patience=5)\n"
   ]
  },
  {
   "cell_type": "code",
   "execution_count": 11,
   "metadata": {},
   "outputs": [],
   "source": [
    "# Model checkpoint callback\n",
    "checkpoint = ModelCheckpoint('zfnet.keras', save_best_only=True)"
   ]
  },
  {
   "cell_type": "code",
   "execution_count": 12,
   "metadata": {},
   "outputs": [
    {
     "name": "stdout",
     "output_type": "stream",
     "text": [
      "Epoch 1/10\n"
     ]
    },
    {
     "name": "stderr",
     "output_type": "stream",
     "text": [
      "c:\\Users\\pron\\AppData\\Local\\Programs\\Python\\Python311\\Lib\\site-packages\\keras\\src\\trainers\\data_adapters\\py_dataset_adapter.py:121: UserWarning: Your `PyDataset` class should call `super().__init__(**kwargs)` in its constructor. `**kwargs` can include `workers`, `use_multiprocessing`, `max_queue_size`. Do not pass these arguments to `fit()`, as they will be ignored.\n",
      "  self._warn_if_super_not_called()\n"
     ]
    },
    {
     "name": "stdout",
     "output_type": "stream",
     "text": [
      "\u001b[1m106/106\u001b[0m \u001b[32m━━━━━━━━━━━━━━━━━━━━\u001b[0m\u001b[37m\u001b[0m \u001b[1m126s\u001b[0m 1s/step - accuracy: 0.6165 - loss: 0.8304 - val_accuracy: 0.8168 - val_loss: 0.3878\n",
      "Epoch 2/10\n",
      "\u001b[1m106/106\u001b[0m \u001b[32m━━━━━━━━━━━━━━━━━━━━\u001b[0m\u001b[37m\u001b[0m \u001b[1m56s\u001b[0m 525ms/step - accuracy: 0.9023 - loss: 0.2382 - val_accuracy: 0.9080 - val_loss: 0.2651\n",
      "Epoch 3/10\n",
      "\u001b[1m106/106\u001b[0m \u001b[32m━━━━━━━━━━━━━━━━━━━━\u001b[0m\u001b[37m\u001b[0m \u001b[1m56s\u001b[0m 529ms/step - accuracy: 0.9625 - loss: 0.1084 - val_accuracy: 0.8639 - val_loss: 0.4367\n",
      "Epoch 4/10\n",
      "\u001b[1m106/106\u001b[0m \u001b[32m━━━━━━━━━━━━━━━━━━━━\u001b[0m\u001b[37m\u001b[0m \u001b[1m65s\u001b[0m 616ms/step - accuracy: 0.9816 - loss: 0.0570 - val_accuracy: 0.9629 - val_loss: 0.2469\n",
      "Epoch 5/10\n",
      "\u001b[1m106/106\u001b[0m \u001b[32m━━━━━━━━━━━━━━━━━━━━\u001b[0m\u001b[37m\u001b[0m \u001b[1m61s\u001b[0m 567ms/step - accuracy: 0.9842 - loss: 0.0427 - val_accuracy: 0.8834 - val_loss: 0.4046\n",
      "Epoch 6/10\n",
      "\u001b[1m106/106\u001b[0m \u001b[32m━━━━━━━━━━━━━━━━━━━━\u001b[0m\u001b[37m\u001b[0m \u001b[1m59s\u001b[0m 559ms/step - accuracy: 0.9874 - loss: 0.0355 - val_accuracy: 0.8943 - val_loss: 0.4660\n",
      "Epoch 7/10\n",
      "\u001b[1m106/106\u001b[0m \u001b[32m━━━━━━━━━━━━━━━━━━━━\u001b[0m\u001b[37m\u001b[0m \u001b[1m57s\u001b[0m 532ms/step - accuracy: 0.9922 - loss: 0.0254 - val_accuracy: 0.8834 - val_loss: 0.4633\n",
      "Epoch 8/10\n",
      "\u001b[1m106/106\u001b[0m \u001b[32m━━━━━━━━━━━━━━━━━━━━\u001b[0m\u001b[37m\u001b[0m \u001b[1m53s\u001b[0m 497ms/step - accuracy: 0.9858 - loss: 0.0433 - val_accuracy: 0.8597 - val_loss: 0.6772\n",
      "Epoch 9/10\n",
      "\u001b[1m106/106\u001b[0m \u001b[32m━━━━━━━━━━━━━━━━━━━━\u001b[0m\u001b[37m\u001b[0m \u001b[1m53s\u001b[0m 495ms/step - accuracy: 0.9867 - loss: 0.0475 - val_accuracy: 0.9022 - val_loss: 0.2964\n"
     ]
    }
   ],
   "source": [
    "\n",
    "# Train the model\n",
    "history = zfnet.fit(train_generator, validation_data=test_generator, epochs=10, callbacks=[early_stopping, checkpoint])\n"
   ]
  },
  {
   "cell_type": "code",
   "execution_count": 13,
   "metadata": {},
   "outputs": [
    {
     "data": {
      "image/png": "[encoded data removed]",
      "text/plain": [
       "<Figure size 640x480 with 1 Axes>"
      ]
     },
     "metadata": {},
     "output_type": "display_data"
    }
   ],
   "source": [
    "\n",
    "# Plot training history\n",
    "plt.plot(history.history['accuracy'], label='accuracy')\n",
    "plt.plot(history.history['val_accuracy'], label = 'val_accuracy')\n",
    "plt.xlabel('Epoch')\n",
    "plt.ylabel('Accuracy')\n",
    "plt.ylim([0, 1])\n",
    "plt.legend(loc='lower right')\n",
    "plt.show()"
   ]
  },
  {
   "cell_type": "code",
   "execution_count": 14,
   "metadata": {},
   "outputs": [
    {
     "name": "stdout",
     "output_type": "stream",
     "text": [
      "\u001b[1m38/38\u001b[0m \u001b[32m━━━━━━━━━━━━━━━━━━━━\u001b[0m\u001b[37m\u001b[0m \u001b[1m3s\u001b[0m 85ms/step - accuracy: 0.8959 - loss: 0.3040\n",
      "Test accuracy: 0.90\n"
     ]
    }
   ],
   "source": [
    "# Evaluate the model\n",
    "loss, accuracy = zfnet.evaluate(test_generator)\n",
    "print(f'Test accuracy: {accuracy:.2f}')\n",
    "\n"
   ]
  },
  {
   "cell_type": "code",
   "execution_count": 15,
   "metadata": {},
   "outputs": [
    {
     "name": "stdout",
     "output_type": "stream",
     "text": [
      "\u001b[1m38/38\u001b[0m \u001b[32m━━━━━━━━━━━━━━━━━━━━\u001b[0m\u001b[37m\u001b[0m \u001b[1m3s\u001b[0m 83ms/step\n"
     ]
    },
    {
     "data": {
      "image/png": "[encoded data removed]",
      "text/plain": [
       "<Figure size 640x480 with 2 Axes>"
      ]
     },
     "metadata": {},
     "output_type": "display_data"
    }
   ],
   "source": [
    "# Check Confusion matrix\n",
    "y_pred = zfnet.predict(test_generator)\n",
    "y_pred = np.argmax(y_pred, axis=1)\n",
    "y_true = test_generator.classes\n",
    "cm = confusion_matrix(y_true, y_pred)\n",
    "sns.heatmap(cm, annot=True, fmt='d', cmap='Blues')\n",
    "plt.xlabel('Predicted')\n",
    "plt.ylabel('True')\n",
    "plt.show()\n",
    "\n",
    "\n",
    "\n"
   ]
  },
  {
   "cell_type": "code",
   "execution_count": 16,
   "metadata": {},
   "outputs": [
    {
     "name": "stdout",
     "output_type": "stream",
     "text": [
      "F1 Score: 0.49\n"
     ]
    }
   ],
   "source": [
    "\n",
    "# Check F1 Score\n",
    "from sklearn.metrics import f1_score\n",
    "f1 = f1_score(y_true, y_pred, average='weighted')\n",
    "print(f'F1 Score: {f1:.2f}')"
   ]
  },
  {
   "cell_type": "code",
   "execution_count": 17,
   "metadata": {},
   "outputs": [
    {
     "name": "stdout",
     "output_type": "stream",
     "text": [
      "ROC AUC: 0.49\n"
     ]
    }
   ],
   "source": [
    "# Area Under the ROC Curve \n",
    "from sklearn.metrics import roc_auc_score\n",
    "roc_auc = roc_auc_score(y_true, y_pred)\n",
    "print(f'ROC AUC: {roc_auc:.2f}')\n"
   ]
  },
  {
   "cell_type": "code",
   "execution_count": 18,
   "metadata": {},
   "outputs": [
    {
     "name": "stdout",
     "output_type": "stream",
     "text": [
      "Precision: 0.50\n"
     ]
    }
   ],
   "source": [
    "# Precision\n",
    "from sklearn.metrics import precision_score\n",
    "precision = precision_score(y_true, y_pred, average='weighted')\n",
    "print(f'Precision: {precision:.2f}')\n"
   ]
  },
  {
   "cell_type": "code",
   "execution_count": 19,
   "metadata": {},
   "outputs": [
    {
     "name": "stdout",
     "output_type": "stream",
     "text": [
      "MAE: 0.51\n"
     ]
    }
   ],
   "source": [
    "# Mean Absolute Error (MAE)\n",
    "from sklearn.metrics import mean_absolute_error\n",
    "mae = mean_absolute_error(y_true, y_pred)\n",
    "print(f'MAE: {mae:.2f}')\n"
   ]
  },
  {
   "cell_type": "code",
   "execution_count": null,
   "metadata": {},
   "outputs": [],
   "source": []
  }
 ],
 "metadata": {
  "kernelspec": {
   "display_name": "Python 3",
   "language": "python",
   "name": "python3"
  },
  "language_info": {
   "codemirror_mode": {
    "name": "ipython",
    "version": 3
   },
   "file_extension": ".py",
   "mimetype": "text/x-python",
   "name": "python",
   "nbconvert_exporter": "python",
   "pygments_lexer": "ipython3",
   "version": "3.11.5"
  }
 },
 "nbformat": 4,
 "nbformat_minor": 2
}
